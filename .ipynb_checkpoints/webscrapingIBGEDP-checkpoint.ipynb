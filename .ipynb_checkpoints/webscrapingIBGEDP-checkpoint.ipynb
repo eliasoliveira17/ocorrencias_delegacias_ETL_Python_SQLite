{
 "cells": [
  {
   "cell_type": "code",
   "execution_count": 2,
   "id": "14c68ad8",
   "metadata": {},
   "outputs": [],
   "source": [
    "import pandas as pd\n",
    "from datetime import datetime\n",
    "from pathlib import Path\n",
    "import sqlite3 as sql"
   ]
  },
  {
   "cell_type": "markdown",
   "id": "6de1ce5c",
   "metadata": {},
   "source": [
    "# Coleta de dados do IBGE"
   ]
  },
  {
   "cell_type": "code",
   "execution_count": 3,
   "id": "f06db94c",
   "metadata": {},
   "outputs": [],
   "source": [
    "# link do IBGE\n",
    "url = \"https://www.ibge.gov.br/explica/codigos-dos-municipios.php\"\n",
    "\n",
    "# alternativa 1\n",
    "# pd.read_html(url)[19]\n",
    "\n",
    "# alternativa 2\n",
    "dadosIBGE = pd.DataFrame(pd.read_html(url, match=\"Municípios do Rio de Janeiro\")[0])\n",
    "\n",
    "# renomear colunas no dataframe (DF)\n",
    "dadosIBGE = dadosIBGE.rename(columns={'Municípios do Rio de Janeiro':'nmMunic','Códigos':'codMunic'})\n",
    "\n",
    "# alterando nome do index (é diferente do nome das colunas)\n",
    "dadosIBGE.index.name = \"idMunic\"\n",
    "\n",
    "# alterando começo do index\n",
    "idInit = 1\n",
    "dadosIBGE.index =  dadosIBGE.index + (idInit - dadosIBGE.index[0])\n",
    "\n",
    "# adicionando coluna de data e hora de carga\n",
    "dadosIBGE['dtCarga'] = datetime.today().strftime('%d/%m/%Y %H:%M')"
   ]
  },
  {
   "cell_type": "code",
   "execution_count": 16,
   "id": "6061be68",
   "metadata": {},
   "outputs": [
    {
     "data": {
      "text/html": [
       "<div>\n",
       "<style scoped>\n",
       "    .dataframe tbody tr th:only-of-type {\n",
       "        vertical-align: middle;\n",
       "    }\n",
       "\n",
       "    .dataframe tbody tr th {\n",
       "        vertical-align: top;\n",
       "    }\n",
       "\n",
       "    .dataframe thead th {\n",
       "        text-align: right;\n",
       "    }\n",
       "</style>\n",
       "<table border=\"1\" class=\"dataframe\">\n",
       "  <thead>\n",
       "    <tr style=\"text-align: right;\">\n",
       "      <th></th>\n",
       "      <th>nmMunic</th>\n",
       "      <th>codMunic</th>\n",
       "      <th>dtCarga</th>\n",
       "    </tr>\n",
       "    <tr>\n",
       "      <th>idMunic</th>\n",
       "      <th></th>\n",
       "      <th></th>\n",
       "      <th></th>\n",
       "    </tr>\n",
       "  </thead>\n",
       "  <tbody>\n",
       "    <tr>\n",
       "      <th>1</th>\n",
       "      <td>Angra dos Reis</td>\n",
       "      <td>3300100</td>\n",
       "      <td>03/09/2022 09:58</td>\n",
       "    </tr>\n",
       "    <tr>\n",
       "      <th>2</th>\n",
       "      <td>Aperibé</td>\n",
       "      <td>3300159</td>\n",
       "      <td>03/09/2022 09:58</td>\n",
       "    </tr>\n",
       "    <tr>\n",
       "      <th>3</th>\n",
       "      <td>Araruama</td>\n",
       "      <td>3300209</td>\n",
       "      <td>03/09/2022 09:58</td>\n",
       "    </tr>\n",
       "    <tr>\n",
       "      <th>4</th>\n",
       "      <td>Areal</td>\n",
       "      <td>3300225</td>\n",
       "      <td>03/09/2022 09:58</td>\n",
       "    </tr>\n",
       "    <tr>\n",
       "      <th>5</th>\n",
       "      <td>Armação dos Búzios</td>\n",
       "      <td>3300233</td>\n",
       "      <td>03/09/2022 09:58</td>\n",
       "    </tr>\n",
       "    <tr>\n",
       "      <th>...</th>\n",
       "      <td>...</td>\n",
       "      <td>...</td>\n",
       "      <td>...</td>\n",
       "    </tr>\n",
       "    <tr>\n",
       "      <th>88</th>\n",
       "      <td>Três Rios</td>\n",
       "      <td>3306008</td>\n",
       "      <td>03/09/2022 09:58</td>\n",
       "    </tr>\n",
       "    <tr>\n",
       "      <th>89</th>\n",
       "      <td>Valença</td>\n",
       "      <td>3306107</td>\n",
       "      <td>03/09/2022 09:58</td>\n",
       "    </tr>\n",
       "    <tr>\n",
       "      <th>90</th>\n",
       "      <td>Varre-Sai</td>\n",
       "      <td>3306156</td>\n",
       "      <td>03/09/2022 09:58</td>\n",
       "    </tr>\n",
       "    <tr>\n",
       "      <th>91</th>\n",
       "      <td>Vassouras</td>\n",
       "      <td>3306206</td>\n",
       "      <td>03/09/2022 09:58</td>\n",
       "    </tr>\n",
       "    <tr>\n",
       "      <th>92</th>\n",
       "      <td>Volta Redonda</td>\n",
       "      <td>3306305</td>\n",
       "      <td>03/09/2022 09:58</td>\n",
       "    </tr>\n",
       "  </tbody>\n",
       "</table>\n",
       "<p>92 rows × 3 columns</p>\n",
       "</div>"
      ],
      "text/plain": [
       "                    nmMunic  codMunic           dtCarga\n",
       "idMunic                                                \n",
       "1            Angra dos Reis   3300100  03/09/2022 09:58\n",
       "2                   Aperibé   3300159  03/09/2022 09:58\n",
       "3                  Araruama   3300209  03/09/2022 09:58\n",
       "4                     Areal   3300225  03/09/2022 09:58\n",
       "5        Armação dos Búzios   3300233  03/09/2022 09:58\n",
       "...                     ...       ...               ...\n",
       "88                Três Rios   3306008  03/09/2022 09:58\n",
       "89                  Valença   3306107  03/09/2022 09:58\n",
       "90                Varre-Sai   3306156  03/09/2022 09:58\n",
       "91                Vassouras   3306206  03/09/2022 09:58\n",
       "92            Volta Redonda   3306305  03/09/2022 09:58\n",
       "\n",
       "[92 rows x 3 columns]"
      ]
     },
     "execution_count": 16,
     "metadata": {},
     "output_type": "execute_result"
    }
   ],
   "source": [
    "dadosIBGE"
   ]
  },
  {
   "cell_type": "markdown",
   "id": "9e8248b2",
   "metadata": {},
   "source": [
    "# CRIANDO O BANCO DE DADOS "
   ]
  },
  {
   "cell_type": "code",
   "execution_count": 103,
   "id": "dc6579d2",
   "metadata": {},
   "outputs": [
    {
     "name": "stdout",
     "output_type": "stream",
     "text": [
      "Endereço existe!\n",
      "Bancos de dados já existem!\n"
     ]
    }
   ],
   "source": [
    "endereco = Path('C:\\\\Users\\\\elias\\\\Downloads\\\\Engenharia de Dados com Python\\\\Bancos de Dados\\\\')\n",
    "\n",
    "BDODS = endereco / \"pascoaODS.db\"\n",
    "BDDW = endereco / \"pascoaDW.db\"\n",
    "\n",
    "if endereco.exists():\n",
    "    print(\"Endereço existe!\")\n",
    "    if (BDODS.exists() and BDDW.exists()):\n",
    "        print(\"Bancos de dados já existem!\")\n",
    "    else:\n",
    "        BDODS.touch()\n",
    "        BDDW.touch()\n",
    "        print(\"Bancos de dados acabaram de ser criados!\")\n",
    "else:\n",
    "    print(\"Endereço não existe. Favor, verificar!\")\n"
   ]
  },
  {
   "cell_type": "markdown",
   "id": "477aba9d",
   "metadata": {},
   "source": [
    "# MANIPULANDO OS BANCOS DE DADOS"
   ]
  },
  {
   "cell_type": "code",
   "execution_count": 104,
   "id": "1db90b4f",
   "metadata": {},
   "outputs": [
    {
     "name": "stdout",
     "output_type": "stream",
     "text": [
      "Carga do BDODS concluída!\n"
     ]
    }
   ],
   "source": [
    "# manipulando BDODS\n",
    "\n",
    "#conectar ao BDODS\n",
    "conexaoBDODS = sql.connect(BDODS)\n",
    "\n",
    "# criar a tabela tbLogMunic e carregar todas as colunas do DataFrame IBGE\n",
    "dadosIBGE.to_sql('tbLogMunic',conexaoBDODS,if_exists='append')\n",
    "\n",
    "# confirmar a transação\n",
    "conexaoBDODS.commit()\n",
    "\n",
    "# encerrar a conexão\n",
    "conexaoBDODS.close()\n",
    "\n",
    "print('Carga do BDODS concluída!')"
   ]
  },
  {
   "cell_type": "code",
   "execution_count": 105,
   "id": "b1ad324b",
   "metadata": {},
   "outputs": [
    {
     "name": "stdout",
     "output_type": "stream",
     "text": [
      "Carga do BDDW concluída!\n"
     ]
    }
   ],
   "source": [
    "# manipulando o BDDW\n",
    "\n",
    "# conectar ao BDDW\n",
    "conexaoBDDW = sql.connect(BDDW)\n",
    "\n",
    "# selecionar apenas as colunas de interesse do dataFrame\n",
    "dadosIBGE = dadosIBGE[['nmMunic','codMunic']]\n",
    "\n",
    "# criar a tabela dMunicipio e carregar os dados selecionados do DataFrame\n",
    "dadosIBGE.to_sql('dMunicipio', conexaoBDDW, if_exists='replace')\n",
    "\n",
    "# confirmar a transação\n",
    "conexaoBDDW.commit()\n",
    "\n",
    "# encerrar a conexão\n",
    "conexaoBDDW.close()\n",
    "\n",
    "print('Carga do BDDW concluída!')"
   ]
  },
  {
   "cell_type": "code",
   "execution_count": 17,
   "id": "b9b8653b",
   "metadata": {},
   "outputs": [
    {
     "data": {
      "text/html": [
       "<div>\n",
       "<style scoped>\n",
       "    .dataframe tbody tr th:only-of-type {\n",
       "        vertical-align: middle;\n",
       "    }\n",
       "\n",
       "    .dataframe tbody tr th {\n",
       "        vertical-align: top;\n",
       "    }\n",
       "\n",
       "    .dataframe thead th {\n",
       "        text-align: right;\n",
       "    }\n",
       "</style>\n",
       "<table border=\"1\" class=\"dataframe\">\n",
       "  <thead>\n",
       "    <tr style=\"text-align: right;\">\n",
       "      <th></th>\n",
       "      <th>nmMunic</th>\n",
       "      <th>codMunic</th>\n",
       "    </tr>\n",
       "    <tr>\n",
       "      <th>idMunic</th>\n",
       "      <th></th>\n",
       "      <th></th>\n",
       "    </tr>\n",
       "  </thead>\n",
       "  <tbody>\n",
       "    <tr>\n",
       "      <th>1</th>\n",
       "      <td>Angra dos Reis</td>\n",
       "      <td>3300100</td>\n",
       "    </tr>\n",
       "    <tr>\n",
       "      <th>2</th>\n",
       "      <td>Aperibé</td>\n",
       "      <td>3300159</td>\n",
       "    </tr>\n",
       "    <tr>\n",
       "      <th>3</th>\n",
       "      <td>Araruama</td>\n",
       "      <td>3300209</td>\n",
       "    </tr>\n",
       "    <tr>\n",
       "      <th>4</th>\n",
       "      <td>Areal</td>\n",
       "      <td>3300225</td>\n",
       "    </tr>\n",
       "    <tr>\n",
       "      <th>5</th>\n",
       "      <td>Armação dos Búzios</td>\n",
       "      <td>3300233</td>\n",
       "    </tr>\n",
       "    <tr>\n",
       "      <th>...</th>\n",
       "      <td>...</td>\n",
       "      <td>...</td>\n",
       "    </tr>\n",
       "    <tr>\n",
       "      <th>88</th>\n",
       "      <td>Três Rios</td>\n",
       "      <td>3306008</td>\n",
       "    </tr>\n",
       "    <tr>\n",
       "      <th>89</th>\n",
       "      <td>Valença</td>\n",
       "      <td>3306107</td>\n",
       "    </tr>\n",
       "    <tr>\n",
       "      <th>90</th>\n",
       "      <td>Varre-Sai</td>\n",
       "      <td>3306156</td>\n",
       "    </tr>\n",
       "    <tr>\n",
       "      <th>91</th>\n",
       "      <td>Vassouras</td>\n",
       "      <td>3306206</td>\n",
       "    </tr>\n",
       "    <tr>\n",
       "      <th>92</th>\n",
       "      <td>Volta Redonda</td>\n",
       "      <td>3306305</td>\n",
       "    </tr>\n",
       "  </tbody>\n",
       "</table>\n",
       "<p>92 rows × 2 columns</p>\n",
       "</div>"
      ],
      "text/plain": [
       "                    nmMunic  codMunic\n",
       "idMunic                              \n",
       "1            Angra dos Reis   3300100\n",
       "2                   Aperibé   3300159\n",
       "3                  Araruama   3300209\n",
       "4                     Areal   3300225\n",
       "5        Armação dos Búzios   3300233\n",
       "...                     ...       ...\n",
       "88                Três Rios   3306008\n",
       "89                  Valença   3306107\n",
       "90                Varre-Sai   3306156\n",
       "91                Vassouras   3306206\n",
       "92            Volta Redonda   3306305\n",
       "\n",
       "[92 rows x 2 columns]"
      ]
     },
     "execution_count": 17,
     "metadata": {},
     "output_type": "execute_result"
    }
   ],
   "source": [
    "dadosIBGE = dadosIBGE[['nmMunic','codMunic']]\n",
    "dadosIBGE"
   ]
  },
  {
   "cell_type": "markdown",
   "id": "6aa1edb4",
   "metadata": {},
   "source": [
    "# "
   ]
  }
 ],
 "metadata": {
  "kernelspec": {
   "display_name": "Python 3",
   "language": "python",
   "name": "python3"
  },
  "language_info": {
   "codemirror_mode": {
    "name": "ipython",
    "version": 3
   },
   "file_extension": ".py",
   "mimetype": "text/x-python",
   "name": "python",
   "nbconvert_exporter": "python",
   "pygments_lexer": "ipython3",
   "version": "3.8.8"
  }
 },
 "nbformat": 4,
 "nbformat_minor": 5
}
