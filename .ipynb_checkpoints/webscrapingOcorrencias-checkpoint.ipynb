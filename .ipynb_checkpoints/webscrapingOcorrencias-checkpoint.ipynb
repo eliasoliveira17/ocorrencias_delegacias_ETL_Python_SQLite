{
 "cells": [
  {
   "cell_type": "code",
   "execution_count": 203,
   "id": "14c68ad8",
   "metadata": {},
   "outputs": [],
   "source": [
    "import pandas as pd\n",
    "from datetime import datetime\n",
    "from pathlib import Path\n",
    "import sqlite3 as sql"
   ]
  },
  {
   "cell_type": "markdown",
   "id": "ff924b86",
   "metadata": {},
   "source": [
    "# CRIANDO O BANCO DE DADOS "
   ]
  },
  {
   "cell_type": "code",
   "execution_count": 204,
   "id": "9c16d56a",
   "metadata": {},
   "outputs": [
    {
     "name": "stdout",
     "output_type": "stream",
     "text": [
      "Endereço existe!\n",
      "Bancos de dados já existem!\n"
     ]
    }
   ],
   "source": [
    "endereco = Path('C:\\\\Users\\\\elias\\\\Downloads\\\\Engenharia de Dados com Python\\\\Bancos de Dados\\\\')\n",
    "\n",
    "BDODS = endereco / \"pascoaODS.db\"\n",
    "BDDW = endereco / \"pascoaDW.db\"\n",
    "\n",
    "if endereco.exists():\n",
    "    print(\"Endereço existe!\")\n",
    "    if (BDODS.exists() and BDDW.exists()):\n",
    "        print(\"Bancos de dados já existem!\")\n",
    "    else:\n",
    "        BDODS.touch()\n",
    "        BDDW.touch()\n",
    "        print(\"Bancos de dados acabaram de ser criados!\")\n",
    "else:\n",
    "    print(\"Endereço não existe. Favor, verificar!\")\n"
   ]
  },
  {
   "cell_type": "markdown",
   "id": "bae005ad",
   "metadata": {},
   "source": [
    "# CARGA DOS DADOS DAS OCORRÊNCIAS"
   ]
  },
  {
   "cell_type": "code",
   "execution_count": 205,
   "id": "734b233a",
   "metadata": {},
   "outputs": [
    {
     "data": {
      "text/plain": [
       "'13/09/2022 23:07'"
      ]
     },
     "execution_count": 205,
     "metadata": {},
     "output_type": "execute_result"
    }
   ],
   "source": [
    "# coleta horário da carga\n",
    "dtCarga = datetime.today().strftime('%d/%m/%Y %H:%M')\n",
    "dtCarga"
   ]
  },
  {
   "cell_type": "markdown",
   "id": "76336022",
   "metadata": {},
   "source": [
    "# CRIAÇÃO DO DATAFRAME tbLogOcorrencias"
   ]
  },
  {
   "cell_type": "code",
   "execution_count": 206,
   "id": "4a1d3322",
   "metadata": {},
   "outputs": [],
   "source": [
    "# pasta com csv\n",
    "localCSV = 'C:\\\\Users\\\\elias\\\\Downloads\\\\Engenharia de Dados com Python\\\\Arquivos CSV\\\\'\n",
    "\n",
    "# carga dos dados de cadastro dos batalhões de polícia militar\n",
    "tbLogOcorrencias = pd.DataFrame(pd.read_csv(localCSV + 'OcorrenciaV2.csv'))\n",
    "\n",
    "# adicionar data e hora\n",
    "tbLogOcorrencias['dtCarga'] = dtCarga\n",
    "\n",
    "# selecionar coluna COD_DP como índice\n",
    "# tbLogDP = tbLogDP.set_index('COD_DP')"
   ]
  },
  {
   "cell_type": "code",
   "execution_count": 207,
   "id": "67eeacae",
   "metadata": {},
   "outputs": [
    {
     "data": {
      "text/html": [
       "<div>\n",
       "<style scoped>\n",
       "    .dataframe tbody tr th:only-of-type {\n",
       "        vertical-align: middle;\n",
       "    }\n",
       "\n",
       "    .dataframe tbody tr th {\n",
       "        vertical-align: top;\n",
       "    }\n",
       "\n",
       "    .dataframe thead th {\n",
       "        text-align: right;\n",
       "    }\n",
       "</style>\n",
       "<table border=\"1\" class=\"dataframe\">\n",
       "  <thead>\n",
       "    <tr style=\"text-align: right;\">\n",
       "      <th></th>\n",
       "      <th>COD_DP</th>\n",
       "      <th>COD_BPM</th>\n",
       "      <th>ano</th>\n",
       "      <th>mes</th>\n",
       "      <th>mes_ano</th>\n",
       "      <th>Regiao</th>\n",
       "      <th>COD_Munic_IBGE</th>\n",
       "      <th>Ocorrencia</th>\n",
       "      <th>Soma de Qtde</th>\n",
       "      <th>dtCarga</th>\n",
       "    </tr>\n",
       "  </thead>\n",
       "  <tbody>\n",
       "    <tr>\n",
       "      <th>0</th>\n",
       "      <td>1</td>\n",
       "      <td>5</td>\n",
       "      <td>2018</td>\n",
       "      <td>1</td>\n",
       "      <td>2018m01</td>\n",
       "      <td>1</td>\n",
       "      <td>3304557</td>\n",
       "      <td>ameaca</td>\n",
       "      <td>7</td>\n",
       "      <td>13/09/2022 23:07</td>\n",
       "    </tr>\n",
       "    <tr>\n",
       "      <th>1</th>\n",
       "      <td>1</td>\n",
       "      <td>5</td>\n",
       "      <td>2018</td>\n",
       "      <td>1</td>\n",
       "      <td>2018m01</td>\n",
       "      <td>1</td>\n",
       "      <td>3304557</td>\n",
       "      <td>apreensao_drogas</td>\n",
       "      <td>3</td>\n",
       "      <td>13/09/2022 23:07</td>\n",
       "    </tr>\n",
       "    <tr>\n",
       "      <th>2</th>\n",
       "      <td>1</td>\n",
       "      <td>5</td>\n",
       "      <td>2018</td>\n",
       "      <td>1</td>\n",
       "      <td>2018m01</td>\n",
       "      <td>1</td>\n",
       "      <td>3304557</td>\n",
       "      <td>estelionato</td>\n",
       "      <td>81</td>\n",
       "      <td>13/09/2022 23:07</td>\n",
       "    </tr>\n",
       "    <tr>\n",
       "      <th>3</th>\n",
       "      <td>1</td>\n",
       "      <td>5</td>\n",
       "      <td>2018</td>\n",
       "      <td>1</td>\n",
       "      <td>2018m01</td>\n",
       "      <td>1</td>\n",
       "      <td>3304557</td>\n",
       "      <td>estupro</td>\n",
       "      <td>1</td>\n",
       "      <td>13/09/2022 23:07</td>\n",
       "    </tr>\n",
       "    <tr>\n",
       "      <th>4</th>\n",
       "      <td>1</td>\n",
       "      <td>5</td>\n",
       "      <td>2018</td>\n",
       "      <td>1</td>\n",
       "      <td>2018m01</td>\n",
       "      <td>1</td>\n",
       "      <td>3304557</td>\n",
       "      <td>extorsao</td>\n",
       "      <td>3</td>\n",
       "      <td>13/09/2022 23:07</td>\n",
       "    </tr>\n",
       "    <tr>\n",
       "      <th>...</th>\n",
       "      <td>...</td>\n",
       "      <td>...</td>\n",
       "      <td>...</td>\n",
       "      <td>...</td>\n",
       "      <td>...</td>\n",
       "      <td>...</td>\n",
       "      <td>...</td>\n",
       "      <td>...</td>\n",
       "      <td>...</td>\n",
       "      <td>...</td>\n",
       "    </tr>\n",
       "    <tr>\n",
       "      <th>124000</th>\n",
       "      <td>168</td>\n",
       "      <td>33</td>\n",
       "      <td>2018</td>\n",
       "      <td>12</td>\n",
       "      <td>2018m12</td>\n",
       "      <td>3</td>\n",
       "      <td>3304409</td>\n",
       "      <td>posse_drogas</td>\n",
       "      <td>8</td>\n",
       "      <td>13/09/2022 23:07</td>\n",
       "    </tr>\n",
       "    <tr>\n",
       "      <th>124001</th>\n",
       "      <td>168</td>\n",
       "      <td>33</td>\n",
       "      <td>2018</td>\n",
       "      <td>12</td>\n",
       "      <td>2018m12</td>\n",
       "      <td>3</td>\n",
       "      <td>3304409</td>\n",
       "      <td>recuperacao_veiculos</td>\n",
       "      <td>1</td>\n",
       "      <td>13/09/2022 23:07</td>\n",
       "    </tr>\n",
       "    <tr>\n",
       "      <th>124002</th>\n",
       "      <td>168</td>\n",
       "      <td>33</td>\n",
       "      <td>2018</td>\n",
       "      <td>12</td>\n",
       "      <td>2018m12</td>\n",
       "      <td>3</td>\n",
       "      <td>3304409</td>\n",
       "      <td>roubo_rua</td>\n",
       "      <td>1</td>\n",
       "      <td>13/09/2022 23:07</td>\n",
       "    </tr>\n",
       "    <tr>\n",
       "      <th>124003</th>\n",
       "      <td>168</td>\n",
       "      <td>33</td>\n",
       "      <td>2018</td>\n",
       "      <td>12</td>\n",
       "      <td>2018m12</td>\n",
       "      <td>3</td>\n",
       "      <td>3304409</td>\n",
       "      <td>roubo_transeunte</td>\n",
       "      <td>1</td>\n",
       "      <td>13/09/2022 23:07</td>\n",
       "    </tr>\n",
       "    <tr>\n",
       "      <th>124004</th>\n",
       "      <td>168</td>\n",
       "      <td>33</td>\n",
       "      <td>2018</td>\n",
       "      <td>12</td>\n",
       "      <td>2018m12</td>\n",
       "      <td>3</td>\n",
       "      <td>3304409</td>\n",
       "      <td>tentat_hom</td>\n",
       "      <td>2</td>\n",
       "      <td>13/09/2022 23:07</td>\n",
       "    </tr>\n",
       "  </tbody>\n",
       "</table>\n",
       "<p>124005 rows × 10 columns</p>\n",
       "</div>"
      ],
      "text/plain": [
       "        COD_DP  COD_BPM   ano  mes  mes_ano  Regiao  COD_Munic_IBGE  \\\n",
       "0            1        5  2018    1  2018m01       1         3304557   \n",
       "1            1        5  2018    1  2018m01       1         3304557   \n",
       "2            1        5  2018    1  2018m01       1         3304557   \n",
       "3            1        5  2018    1  2018m01       1         3304557   \n",
       "4            1        5  2018    1  2018m01       1         3304557   \n",
       "...        ...      ...   ...  ...      ...     ...             ...   \n",
       "124000     168       33  2018   12  2018m12       3         3304409   \n",
       "124001     168       33  2018   12  2018m12       3         3304409   \n",
       "124002     168       33  2018   12  2018m12       3         3304409   \n",
       "124003     168       33  2018   12  2018m12       3         3304409   \n",
       "124004     168       33  2018   12  2018m12       3         3304409   \n",
       "\n",
       "                  Ocorrencia  Soma de Qtde           dtCarga  \n",
       "0                     ameaca             7  13/09/2022 23:07  \n",
       "1           apreensao_drogas             3  13/09/2022 23:07  \n",
       "2                estelionato            81  13/09/2022 23:07  \n",
       "3                    estupro             1  13/09/2022 23:07  \n",
       "4                   extorsao             3  13/09/2022 23:07  \n",
       "...                      ...           ...               ...  \n",
       "124000          posse_drogas             8  13/09/2022 23:07  \n",
       "124001  recuperacao_veiculos             1  13/09/2022 23:07  \n",
       "124002             roubo_rua             1  13/09/2022 23:07  \n",
       "124003      roubo_transeunte             1  13/09/2022 23:07  \n",
       "124004            tentat_hom             2  13/09/2022 23:07  \n",
       "\n",
       "[124005 rows x 10 columns]"
      ]
     },
     "execution_count": 207,
     "metadata": {},
     "output_type": "execute_result"
    }
   ],
   "source": [
    "tbLogOcorrencias"
   ]
  },
  {
   "cell_type": "markdown",
   "id": "aebc3cb3",
   "metadata": {},
   "source": [
    "# CONEXÃO AO BANCO DE DADOS "
   ]
  },
  {
   "cell_type": "code",
   "execution_count": 208,
   "id": "bd68ed3f",
   "metadata": {},
   "outputs": [],
   "source": [
    "# estabelece conexão ao banco de dados BDODS\n",
    "conexaoBDODS = sql.connect(BDODS)\n",
    "\n",
    "# definição da manipulação de dados em SQL\n",
    "SQL_ODS = conexaoBDODS.cursor()\n",
    "\n",
    "# conexão com o banco de dados\n",
    "conexaoBDDW = sql.connect(BDDW)\n",
    "\n",
    "# estabelece configuração do cursor\n",
    "SQL_DW = conexaoBDDW.cursor()"
   ]
  },
  {
   "cell_type": "markdown",
   "id": "8be59e77",
   "metadata": {},
   "source": [
    "# CRIANDO A TABELA E ÍNDICE EM tbLogBPM"
   ]
  },
  {
   "cell_type": "code",
   "execution_count": 209,
   "id": "4d14f4b5",
   "metadata": {},
   "outputs": [
    {
     "data": {
      "text/plain": [
       "<sqlite3.Cursor at 0x2d42c539ab0>"
      ]
     },
     "execution_count": 209,
     "metadata": {},
     "output_type": "execute_result"
    }
   ],
   "source": [
    "# criar a tabela tbLogOcorrencias no BDODS\n",
    "query_tbLogOcorrencias = '''\n",
    "\n",
    "    CREATE TABLE IF NOT EXISTS tbLogOcorrencias\n",
    "    (    \n",
    "    codDP INTEGER,\n",
    "    codBPM INTEGER,\n",
    "    ano INTEGER,\n",
    "    mes INTEGER,\n",
    "    mes_ano CHAR (7),\n",
    "    regiao INTEGER,\n",
    "    codMunicIBGE INTEGER,\n",
    "    ocorrencia VARCHAR (100),\n",
    "    qtde INTEGER,\n",
    "    dtCarga DATETIME\n",
    "    )\n",
    "'''\n",
    "\n",
    "# executa a query de criação da tabela\n",
    "SQL_ODS.execute(query_tbLogOcorrencias)\n",
    "\n",
    "query_idx_tbLogOcorrencias = \"CREATE INDEX IF NOT EXISTS idx_tbLogOcorrencias ON tbLogOcorrencias (codDP,codBPM,codMunicIBGE)\"\n",
    "\n",
    "# executa a query de criação do index\n",
    "SQL_ODS.execute(query_idx_tbLogOcorrencias)\n",
    "\n",
    "# não há necessidade de confirmar a transação"
   ]
  },
  {
   "cell_type": "markdown",
   "id": "152684f2",
   "metadata": {},
   "source": [
    "# INSERINDO DADOS EM tbLogOcorrencias"
   ]
  },
  {
   "cell_type": "code",
   "execution_count": 210,
   "id": "735ccf85",
   "metadata": {},
   "outputs": [
    {
     "name": "stdout",
     "output_type": "stream",
     "text": [
      "Iniciando a inserção de dados na tabela tbLogOcorrencias\n",
      "Carga de 124005 registros em tbLogOcorrencias finalizada \n"
     ]
    }
   ],
   "source": [
    "print('Iniciando a inserção de dados na tabela tbLogOcorrencias')\n",
    "\n",
    "#\n",
    "SQL_ODS.executemany('''\n",
    "\n",
    "INSERT INTO tbLogOcorrencias (codDP, codBPM, ano, mes, mes_ano, regiao, codMunicIBGE, ocorrencia, qtde, dtCarga) \n",
    "VALUES (?, ?, ?, ?, ?, ?, ?, ?, ?, ?)''', tbLogOcorrencias.values.tolist())\n",
    "\n",
    "# confirmar a transação\n",
    "conexaoBDODS.commit()\n",
    "\n",
    "print('Carga de', len(tbLogOcorrencias), 'registros em tbLogOcorrencias finalizada ')"
   ]
  },
  {
   "cell_type": "code",
   "execution_count": 211,
   "id": "8505b038",
   "metadata": {},
   "outputs": [
    {
     "data": {
      "text/plain": [
       "'teste COD_DP, COD_BPM, ano, mes, mes_ano, Regiao, COD_Munic_IBGE, Ocorrencia, Soma de Qtde, dtCarga'"
      ]
     },
     "execution_count": 211,
     "metadata": {},
     "output_type": "execute_result"
    }
   ],
   "source": [
    "'''teste '''+\", \".join(tbLogOcorrencias.columns.tolist())"
   ]
  },
  {
   "cell_type": "markdown",
   "id": "38f504bb",
   "metadata": {},
   "source": [
    "# CRIANDO O DATAFRAME COM O RESULTADO DA QUERY DE CARGA DE DADOS DAS OCORRÊNCIAS"
   ]
  },
  {
   "cell_type": "code",
   "execution_count": 212,
   "id": "2fc15bdb",
   "metadata": {
    "scrolled": true
   },
   "outputs": [
    {
     "data": {
      "text/html": [
       "<div>\n",
       "<style scoped>\n",
       "    .dataframe tbody tr th:only-of-type {\n",
       "        vertical-align: middle;\n",
       "    }\n",
       "\n",
       "    .dataframe tbody tr th {\n",
       "        vertical-align: top;\n",
       "    }\n",
       "\n",
       "    .dataframe thead th {\n",
       "        text-align: right;\n",
       "    }\n",
       "</style>\n",
       "<table border=\"1\" class=\"dataframe\">\n",
       "  <thead>\n",
       "    <tr style=\"text-align: right;\">\n",
       "      <th></th>\n",
       "      <th>codDP</th>\n",
       "      <th>codBPM</th>\n",
       "      <th>ano</th>\n",
       "      <th>mes</th>\n",
       "      <th>regiao</th>\n",
       "      <th>codMunicIBGE</th>\n",
       "      <th>ocorrencia</th>\n",
       "      <th>qtde</th>\n",
       "    </tr>\n",
       "  </thead>\n",
       "  <tbody>\n",
       "    <tr>\n",
       "      <th>0</th>\n",
       "      <td>1</td>\n",
       "      <td>5</td>\n",
       "      <td>2018</td>\n",
       "      <td>1</td>\n",
       "      <td>1</td>\n",
       "      <td>3304557</td>\n",
       "      <td>ameaca</td>\n",
       "      <td>7</td>\n",
       "    </tr>\n",
       "    <tr>\n",
       "      <th>1</th>\n",
       "      <td>1</td>\n",
       "      <td>5</td>\n",
       "      <td>2018</td>\n",
       "      <td>1</td>\n",
       "      <td>1</td>\n",
       "      <td>3304557</td>\n",
       "      <td>apreensao_drogas</td>\n",
       "      <td>3</td>\n",
       "    </tr>\n",
       "    <tr>\n",
       "      <th>2</th>\n",
       "      <td>1</td>\n",
       "      <td>5</td>\n",
       "      <td>2018</td>\n",
       "      <td>1</td>\n",
       "      <td>1</td>\n",
       "      <td>3304557</td>\n",
       "      <td>estelionato</td>\n",
       "      <td>81</td>\n",
       "    </tr>\n",
       "    <tr>\n",
       "      <th>3</th>\n",
       "      <td>1</td>\n",
       "      <td>5</td>\n",
       "      <td>2018</td>\n",
       "      <td>1</td>\n",
       "      <td>1</td>\n",
       "      <td>3304557</td>\n",
       "      <td>estupro</td>\n",
       "      <td>1</td>\n",
       "    </tr>\n",
       "    <tr>\n",
       "      <th>4</th>\n",
       "      <td>1</td>\n",
       "      <td>5</td>\n",
       "      <td>2018</td>\n",
       "      <td>1</td>\n",
       "      <td>1</td>\n",
       "      <td>3304557</td>\n",
       "      <td>extorsao</td>\n",
       "      <td>3</td>\n",
       "    </tr>\n",
       "    <tr>\n",
       "      <th>...</th>\n",
       "      <td>...</td>\n",
       "      <td>...</td>\n",
       "      <td>...</td>\n",
       "      <td>...</td>\n",
       "      <td>...</td>\n",
       "      <td>...</td>\n",
       "      <td>...</td>\n",
       "      <td>...</td>\n",
       "    </tr>\n",
       "    <tr>\n",
       "      <th>124000</th>\n",
       "      <td>168</td>\n",
       "      <td>33</td>\n",
       "      <td>2018</td>\n",
       "      <td>12</td>\n",
       "      <td>3</td>\n",
       "      <td>3304409</td>\n",
       "      <td>posse_drogas</td>\n",
       "      <td>8</td>\n",
       "    </tr>\n",
       "    <tr>\n",
       "      <th>124001</th>\n",
       "      <td>168</td>\n",
       "      <td>33</td>\n",
       "      <td>2018</td>\n",
       "      <td>12</td>\n",
       "      <td>3</td>\n",
       "      <td>3304409</td>\n",
       "      <td>recuperacao_veiculos</td>\n",
       "      <td>1</td>\n",
       "    </tr>\n",
       "    <tr>\n",
       "      <th>124002</th>\n",
       "      <td>168</td>\n",
       "      <td>33</td>\n",
       "      <td>2018</td>\n",
       "      <td>12</td>\n",
       "      <td>3</td>\n",
       "      <td>3304409</td>\n",
       "      <td>roubo_rua</td>\n",
       "      <td>1</td>\n",
       "    </tr>\n",
       "    <tr>\n",
       "      <th>124003</th>\n",
       "      <td>168</td>\n",
       "      <td>33</td>\n",
       "      <td>2018</td>\n",
       "      <td>12</td>\n",
       "      <td>3</td>\n",
       "      <td>3304409</td>\n",
       "      <td>roubo_transeunte</td>\n",
       "      <td>1</td>\n",
       "    </tr>\n",
       "    <tr>\n",
       "      <th>124004</th>\n",
       "      <td>168</td>\n",
       "      <td>33</td>\n",
       "      <td>2018</td>\n",
       "      <td>12</td>\n",
       "      <td>3</td>\n",
       "      <td>3304409</td>\n",
       "      <td>tentat_hom</td>\n",
       "      <td>2</td>\n",
       "    </tr>\n",
       "  </tbody>\n",
       "</table>\n",
       "<p>124005 rows × 8 columns</p>\n",
       "</div>"
      ],
      "text/plain": [
       "        codDP  codBPM   ano  mes  regiao  codMunicIBGE            ocorrencia  \\\n",
       "0           1       5  2018    1       1       3304557                ameaca   \n",
       "1           1       5  2018    1       1       3304557      apreensao_drogas   \n",
       "2           1       5  2018    1       1       3304557           estelionato   \n",
       "3           1       5  2018    1       1       3304557               estupro   \n",
       "4           1       5  2018    1       1       3304557              extorsao   \n",
       "...       ...     ...   ...  ...     ...           ...                   ...   \n",
       "124000    168      33  2018   12       3       3304409          posse_drogas   \n",
       "124001    168      33  2018   12       3       3304409  recuperacao_veiculos   \n",
       "124002    168      33  2018   12       3       3304409             roubo_rua   \n",
       "124003    168      33  2018   12       3       3304409      roubo_transeunte   \n",
       "124004    168      33  2018   12       3       3304409            tentat_hom   \n",
       "\n",
       "        qtde  \n",
       "0          7  \n",
       "1          3  \n",
       "2         81  \n",
       "3          1  \n",
       "4          3  \n",
       "...      ...  \n",
       "124000     8  \n",
       "124001     1  \n",
       "124002     1  \n",
       "124003     1  \n",
       "124004     2  \n",
       "\n",
       "[124005 rows x 8 columns]"
      ]
     },
     "execution_count": 212,
     "metadata": {},
     "output_type": "execute_result"
    }
   ],
   "source": [
    "# definição da query de seleção da carga de dados\n",
    "query_fOcorrencias = '''\n",
    "    SELECT\n",
    "        a.codDP,\n",
    "        a.codBPM,\n",
    "        a.ano,\n",
    "        a.mes,\n",
    "        a.regiao,\n",
    "        a.codMunicIBGE,\n",
    "        a.ocorrencia,\n",
    "        a.qtde\n",
    "    FROM tbLogOcorrencias a\n",
    "    WHERE a.dtCarga = (SELECT MAX(dtCarga) FROM tbLogOcorrencias)\n",
    "'''\n",
    "\n",
    "# popular o dataframe\n",
    "fOcorrencias = pd.read_sql(query_fOcorrencias,conexaoBDODS)\n",
    "\n",
    "# confirmar transação\n",
    "conexaoBDODS.commit()\n",
    "\n",
    "fOcorrencias"
   ]
  },
  {
   "cell_type": "code",
   "execution_count": 213,
   "id": "841335e6",
   "metadata": {},
   "outputs": [
    {
     "data": {
      "text/plain": [
       "<sqlite3.Cursor at 0x2d435e869d0>"
      ]
     },
     "execution_count": 213,
     "metadata": {},
     "output_type": "execute_result"
    }
   ],
   "source": [
    "# definição da query de criação fOcorrencias em DW\n",
    "query_create_fOcorrencias = '''\n",
    "    CREATE TABLE IF NOT EXISTS fOcorrencias\n",
    "    (\n",
    "        idDP INTEGER REFERENCES dDP(idDP) ON UPDATE NO ACTION ON DELETE NO ACTION,\n",
    "        idBPM INTEGER REFERENCES dBPM(idBPM) ON UPDATE NO ACTION ON DELETE NO ACTION,\n",
    "        idPeriodo INTEGER REFERENCES dPeriodo(idPeriodo) ON UPDATE NO ACTION ON DELETE NO ACTION,\n",
    "        regiao INTEGER,\n",
    "        idMunic INTEGER REFERENCES dMunic(idMunic) ON UPDATE NO ACTION ON DELETE NO ACTION,\n",
    "        ocorrencia VARCHAR(100),\n",
    "        qtde INTEGER\n",
    "    )\n",
    "'''\n",
    "\n",
    "# cria fOcorrencias em BW\n",
    "SQL_DW.execute(query_create_fOcorrencias)\n",
    "\n",
    "# define os índices de fOcorrencias\n",
    "query_idx_fOcorrencias = \"CREATE INDEX IF NOT EXISTS idx_fOcorrencias ON fOcorrencias (idDP, idBPM, idMunic)\"\n",
    "SQL_DW.execute(query_idx_fOcorrencias)"
   ]
  },
  {
   "cell_type": "markdown",
   "id": "d09f9d8b",
   "metadata": {},
   "source": [
    "# INSERINDO DADOS NA FATO OCORRÊNCIAS (fOcorrencias) - CARGA INCREMENTAL"
   ]
  },
  {
   "cell_type": "code",
   "execution_count": 214,
   "id": "ffffbf3d",
   "metadata": {},
   "outputs": [],
   "source": [
    "# cria tabela temporária\n",
    "fOcorrencias.to_sql('tempOcorrencias',conexaoBDDW,if_exists='replace')"
   ]
  },
  {
   "cell_type": "code",
   "execution_count": 215,
   "id": "f4bfa509",
   "metadata": {},
   "outputs": [
    {
     "data": {
      "text/html": [
       "<div>\n",
       "<style scoped>\n",
       "    .dataframe tbody tr th:only-of-type {\n",
       "        vertical-align: middle;\n",
       "    }\n",
       "\n",
       "    .dataframe tbody tr th {\n",
       "        vertical-align: top;\n",
       "    }\n",
       "\n",
       "    .dataframe thead th {\n",
       "        text-align: right;\n",
       "    }\n",
       "</style>\n",
       "<table border=\"1\" class=\"dataframe\">\n",
       "  <thead>\n",
       "    <tr style=\"text-align: right;\">\n",
       "      <th></th>\n",
       "      <th>idDP</th>\n",
       "      <th>idBPM</th>\n",
       "      <th>idPeriodo</th>\n",
       "      <th>regiao</th>\n",
       "      <th>idMunic</th>\n",
       "      <th>ocorrencia</th>\n",
       "      <th>qtde</th>\n",
       "    </tr>\n",
       "  </thead>\n",
       "  <tbody>\n",
       "  </tbody>\n",
       "</table>\n",
       "</div>"
      ],
      "text/plain": [
       "Empty DataFrame\n",
       "Columns: [idDP, idBPM, idPeriodo, regiao, idMunic, ocorrencia, qtde]\n",
       "Index: []"
      ]
     },
     "execution_count": 215,
     "metadata": {},
     "output_type": "execute_result"
    }
   ],
   "source": [
    "# definindo a query de carga incremental\n",
    "query_carga_incremental_fOcorrencias = '''\n",
    "    SELECT\n",
    "        b.idDP,\n",
    "        c.idBPM,\n",
    "        d.idPeriodo,\n",
    "        a.regiao,\n",
    "        e.idMunic,\n",
    "        a.ocorrencia,\n",
    "        a.qtde\n",
    "    FROM tempOcorrencias a\n",
    "    JOIN dDP b\n",
    "    ON a.codDP = b.codDP\n",
    "    JOIN dBPM c\n",
    "    ON a.codBPM = c.codBPM\n",
    "    JOIN dPeriodo d \n",
    "    ON (a.ano = d.ano) AND (a.mes = d.mes)\n",
    "    JOIN dMunicipio e\n",
    "    ON a.codMunicIBGE = e.codMunic\n",
    "    LEFT JOIN fOcorrencias g\n",
    "    ON b.idDP = g.idDP\n",
    "    AND c.idBPM = g.idBPM\n",
    "    AND d.idPeriodo = g.idPeriodo\n",
    "    AND e.idMunic = g.idMunic\n",
    "    WHERE g.idDP is null\n",
    "    AND g.idBPM is null\n",
    "    AND g.idPeriodo is null\n",
    "    AND g.idMunic is null\n",
    "'''\n",
    "# criando um DF incremental\n",
    "carga_incremental_fOcorrencias = pd.read_sql(query_carga_incremental_fOcorrencias,conexaoBDDW)\n",
    "carga_incremental_fOcorrencias"
   ]
  },
  {
   "cell_type": "code",
   "execution_count": 216,
   "id": "9aeee007",
   "metadata": {},
   "outputs": [
    {
     "name": "stdout",
     "output_type": "stream",
     "text": [
      "Iniciando a inserção de dados na tabela fOcorrencias\n",
      "Carga de 0 registros em fOcorrencias finalizada \n"
     ]
    }
   ],
   "source": [
    "print('Iniciando a carga incremental de dados na tabela fOcorrencias')\n",
    "\n",
    "# definir query automaticamente de acordo com as colunas de carga_incremental_fOcorrencias\n",
    "cols = \"(\" + \", \".join(carga_incremental_fOcorrencias.columns.tolist())+ \")\"\n",
    "vals = \"(\" + \", \".join(['?' for x in range(len(carga_incremental_fOcorrencias.columns.tolist()))]) + \")\"\n",
    "query_insert_carga_incremental_fOcorrencias = '''INSERT INTO fOcorrencias ''' + cols + ''' VALUES ''' + vals\n",
    "# Executar a carga de dados\n",
    "SQL_DW.executemany(query_insert_carga_incremental_fOcorrencias, carga_incremental_fOcorrencias.values.tolist())\n",
    "\n",
    "# confirmar a transação\n",
    "conexaoBDDW.commit()\n",
    "\n",
    "print('Carga de', len(carga_incremental_fOcorrencias), 'registros em fOcorrencias finalizada ')"
   ]
  },
  {
   "cell_type": "markdown",
   "id": "96d2fa32",
   "metadata": {},
   "source": [
    "# ATUALIZANDO DADOS NA FATO OCORRÊNCIAS (fOcorrencias) - ATUALIZAÇÃO RETROATIVA"
   ]
  },
  {
   "cell_type": "code",
   "execution_count": 217,
   "id": "b37c9b21",
   "metadata": {
    "scrolled": true
   },
   "outputs": [
    {
     "data": {
      "text/html": [
       "<div>\n",
       "<style scoped>\n",
       "    .dataframe tbody tr th:only-of-type {\n",
       "        vertical-align: middle;\n",
       "    }\n",
       "\n",
       "    .dataframe tbody tr th {\n",
       "        vertical-align: top;\n",
       "    }\n",
       "\n",
       "    .dataframe thead th {\n",
       "        text-align: right;\n",
       "    }\n",
       "</style>\n",
       "<table border=\"1\" class=\"dataframe\">\n",
       "  <thead>\n",
       "    <tr style=\"text-align: right;\">\n",
       "      <th></th>\n",
       "      <th>qtde</th>\n",
       "      <th>idDP</th>\n",
       "      <th>idBPM</th>\n",
       "      <th>idPeriodo</th>\n",
       "      <th>regiao</th>\n",
       "      <th>idMunic</th>\n",
       "      <th>ocorrencia</th>\n",
       "    </tr>\n",
       "  </thead>\n",
       "  <tbody>\n",
       "  </tbody>\n",
       "</table>\n",
       "</div>"
      ],
      "text/plain": [
       "Empty DataFrame\n",
       "Columns: [qtde, idDP, idBPM, idPeriodo, regiao, idMunic, ocorrencia]\n",
       "Index: []"
      ]
     },
     "execution_count": 217,
     "metadata": {},
     "output_type": "execute_result"
    }
   ],
   "source": [
    "# query que verifica a existência de atualizações retroativas\n",
    "query_atualizacao_fOcorrencias = '''\n",
    "    SELECT\n",
    "        a.qtde,\n",
    "        b.idDP,\n",
    "        c.idBPM,\n",
    "        d.idPeriodo,\n",
    "        a.regiao,\n",
    "        e.idMunic,\n",
    "        a.ocorrencia        \n",
    "    FROM tempOcorrencias a\n",
    "    JOIN dDP b\n",
    "    ON a.codDP = b.codDP\n",
    "    JOIN dBPM c\n",
    "    ON a.codBPM = c.codBPM\n",
    "    JOIN dPeriodo d \n",
    "    ON (a.ano = d.ano) AND (a.mes = d.mes)\n",
    "    JOIN dMunicipio e\n",
    "    ON a.codMunicIBGE = e.codMunic\n",
    "    LEFT JOIN fOcorrencias g\n",
    "    ON b.idDP = g.idDP\n",
    "    AND c.idBPM = g.idBPM\n",
    "    AND d.idPeriodo = g.idPeriodo\n",
    "    AND e.idMunic = g.idMunic\n",
    "    AND a.regiao = g.regiao\n",
    "    AND a.ocorrencia = g.ocorrencia\n",
    "    WHERE a.qtde <> g.qtde\n",
    "'''\n",
    "# cria DF com linhas de atualizações\n",
    "atualiza_fOcorrencias = pd.read_sql(query_atualizacao_fOcorrencias,conexaoBDDW)\n",
    "atualiza_fOcorrencias"
   ]
  },
  {
   "cell_type": "code",
   "execution_count": 218,
   "id": "ed760ab1",
   "metadata": {},
   "outputs": [
    {
     "name": "stdout",
     "output_type": "stream",
     "text": [
      "Iniciando a atualização de dados na tabela fOcorrencias\n",
      "Carga de 0 registros em fOcorrencias finalizada \n"
     ]
    }
   ],
   "source": [
    "print('Iniciando a atualização de dados na tabela fOcorrencias')\n",
    "\n",
    "# definir query automaticamente de acordo com as colunas de carga_incremental_fOcorrencias\n",
    "atualiza_fOcorrencias_cols_list = atualiza_fOcorrencias.columns.tolist()\n",
    "\n",
    "cols = []\n",
    "for col in atualiza_fOcorrencias_cols_list:\n",
    "    if(col != atualiza_fOcorrencias_cols_list[0]):\n",
    "        if(col != atualiza_fOcorrencias_cols_list[-1]):\n",
    "            cols.append(col + ' = ? \\nAND ')            \n",
    "        else:\n",
    "            cols.append(col + ' = ?')\n",
    "cols = \"\".join(cols)\n",
    "\n",
    "query_update_fOcorrencias = '''\n",
    "UPDATE fOcorrencias\n",
    "SET qtde = ?\n",
    "WHERE ''' + cols\n",
    "# print(query_update_fOcorrencias)\n",
    "\n",
    "# Executar a atualização de dados\n",
    "SQL_DW.executemany(query_update_fOcorrencias,atualiza_fOcorrencias.values.tolist())\n",
    "\n",
    "# confirmar a transação\n",
    "conexaoBDDW.commit()\n",
    "\n",
    "print('Carga de', len(atualiza_fOcorrencias), 'registros em fOcorrencias finalizada ')"
   ]
  },
  {
   "cell_type": "markdown",
   "id": "96ff4b81",
   "metadata": {},
   "source": [
    "# DELETAR TABELA TEMPORÁRIA"
   ]
  },
  {
   "cell_type": "code",
   "execution_count": 219,
   "id": "56c5a33b",
   "metadata": {},
   "outputs": [],
   "source": [
    "# deletar table temporária tempOcorrencias\n",
    "SQL_DW.execute('DROP TABLE tempOcorrencias')\n",
    "\n",
    "# confirmar a transação\n",
    "conexaoBDDW.commit()"
   ]
  },
  {
   "cell_type": "markdown",
   "id": "1a73856f",
   "metadata": {},
   "source": [
    "# FECHANDO A CONEXÃO COM ODS E DW"
   ]
  },
  {
   "cell_type": "code",
   "execution_count": 220,
   "id": "3b098965",
   "metadata": {},
   "outputs": [],
   "source": [
    "conexaoBDDW.close()\n",
    "conexaoBDODS.close()"
   ]
  }
 ],
 "metadata": {
  "kernelspec": {
   "display_name": "Python 3",
   "language": "python",
   "name": "python3"
  },
  "language_info": {
   "codemirror_mode": {
    "name": "ipython",
    "version": 3
   },
   "file_extension": ".py",
   "mimetype": "text/x-python",
   "name": "python",
   "nbconvert_exporter": "python",
   "pygments_lexer": "ipython3",
   "version": "3.8.8"
  }
 },
 "nbformat": 4,
 "nbformat_minor": 5
}
